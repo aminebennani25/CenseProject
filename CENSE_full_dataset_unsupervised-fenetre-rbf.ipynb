{
 "cells": [
  {
   "cell_type": "markdown",
   "metadata": {},
   "source": [
    "# Projet CENSE"
   ]
  },
  {
   "cell_type": "code",
   "execution_count": 3,
   "metadata": {
    "ExecuteTime": {
     "end_time": "2020-03-26T19:44:31.469871Z",
     "start_time": "2020-03-26T19:44:05.706317Z"
    }
   },
   "outputs": [],
   "source": [
    "import librosa.display\n",
    "import IPython.display as ipd\n",
    "\n",
    "# feature extractoring and preprocessing data\n",
    "import librosa\n",
    "import pandas as pd\n",
    "import numpy as np\n",
    "import matplotlib.pyplot as plt\n",
    "%matplotlib inline\n",
    "import os\n",
    "\n",
    "from PIL import Image\n",
    "import pathlib\n",
    "\n",
    "# Preprocessing\n",
    "from sklearn.model_selection import train_test_split\n",
    "from sklearn.preprocessing import LabelEncoder, StandardScaler\n",
    "\n",
    "# Normalization\n",
    "from sklearn import preprocessing \n",
    "\n",
    "import warnings\n",
    "warnings.filterwarnings('ignore')"
   ]
  },
  {
   "cell_type": "markdown",
   "metadata": {},
   "source": [
    "# prprocessing"
   ]
  },
  {
   "cell_type": "code",
   "execution_count": 4,
   "metadata": {
    "ExecuteTime": {
     "end_time": "2020-03-26T19:44:31.502851Z",
     "start_time": "2020-03-26T19:44:31.488858Z"
    }
   },
   "outputs": [],
   "source": [
    "np.random.seed(43)\n",
    "file_path = '.\\TUT-acoustic-scenes-2017-development.meta\\TUT-acoustic-scenes-2017-development\\evaluation_setup'\n",
    "fold1 = os.listdir(file_path)"
   ]
  },
  {
   "cell_type": "code",
   "execution_count": 5,
   "metadata": {
    "ExecuteTime": {
     "end_time": "2020-03-26T19:44:31.626876Z",
     "start_time": "2020-03-26T19:44:31.516841Z"
    }
   },
   "outputs": [
    {
     "name": "stdout",
     "output_type": "stream",
     "text": [
      "fold 1 has 3510 sounds to train\n"
     ]
    }
   ],
   "source": [
    "train = os.path.join(file_path,fold1[2])\n",
    "fold1_filename_train = []\n",
    "fold1_label_train = []\n",
    "with open(train, 'r') as f:\n",
    "    data = f.readlines()  #data reading line by line\n",
    "    for line in data:\n",
    "        record = line.split()        #split the filename and label\n",
    "        fold1_filename_train.append(record[0][6:])\n",
    "        fold1_label_train.append(record[1])\n",
    "print('fold 1 has {} sounds to train'.format(len(fold1_filename_train)))"
   ]
  },
  {
   "cell_type": "markdown",
   "metadata": {},
   "source": [
    "Because training set is too large, so we can take out some songs for testing our method"
   ]
  },
  {
   "cell_type": "code",
   "execution_count": 6,
   "metadata": {
    "ExecuteTime": {
     "end_time": "2020-03-26T19:44:32.873598Z",
     "start_time": "2020-03-26T19:44:31.642868Z"
    }
   },
   "outputs": [
    {
     "name": "stdout",
     "output_type": "stream",
     "text": [
      "training set has 3510 data\n",
      "training set label has 3510 records\n",
      "There are 15 classes in the training set\n"
     ]
    }
   ],
   "source": [
    "audio_train = []\n",
    "\n",
    "indices = np.arange(len(fold1_filename_train))\n",
    "np.random.shuffle(indices)\n",
    "n_sound = len(fold1_filename_train)  # select some data to have a try, otherwise we consider the whole data set\n",
    "indices = indices[:n_sound]\n",
    "fold1_filename_train = np.array(fold1_filename_train)[indices]\n",
    "fold1_label_train = np.array(fold1_label_train)[indices]\n",
    "\n",
    "for root,dirnames,filenames in os.walk('./'):\n",
    "    for filename in filenames:\n",
    "         if filename in fold1_filename_train:\n",
    "            f = os.path.join(root, filename)\n",
    "            audio_train.append(f)\n",
    "print(f'training set has {len(audio_train)} data')\n",
    "print(f'training set label has {len(fold1_label_train)} records')\n",
    "classes_train = set(fold1_label_train)  # find the unique elements\n",
    "n_classes_train = len(classes_train)\n",
    "print(f'There are {n_classes_train} classes in the training set')"
   ]
  },
  {
   "cell_type": "code",
   "execution_count": 7,
   "metadata": {
    "ExecuteTime": {
     "end_time": "2020-03-26T19:44:32.907576Z",
     "start_time": "2020-03-26T19:44:32.899580Z"
    }
   },
   "outputs": [
    {
     "name": "stdout",
     "output_type": "stream",
     "text": [
      "label list :\n",
      "\n",
      "tram 0\n",
      "residential_area 1\n",
      "home 2\n",
      "library 3\n",
      "car 4\n",
      "beach 5\n",
      "forest_path 6\n",
      "train 7\n",
      "office 8\n",
      "grocery_store 9\n",
      "cafe/restaurant 10\n",
      "park 11\n",
      "bus 12\n",
      "city_center 13\n",
      "metro_station 14\n"
     ]
    }
   ],
   "source": [
    "dictionary = dict(zip(classes_train, list(np.arange(n_classes_train))))  # build the connection between labels and numbers\n",
    "print('label list :\\n')\n",
    "for item in classes_train:\n",
    "    print(item, dictionary[item])"
   ]
  },
  {
   "cell_type": "code",
   "execution_count": 8,
   "metadata": {
    "ExecuteTime": {
     "end_time": "2020-03-26T19:44:32.949551Z",
     "start_time": "2020-03-26T19:44:32.937558Z"
    }
   },
   "outputs": [],
   "source": [
    "temp=[]\n",
    "for label in fold1_label_train:\n",
    "    temp.append(dictionary[label])\n",
    "fold1_label_train= temp"
   ]
  },
  {
   "cell_type": "markdown",
   "metadata": {},
   "source": [
    "It takes a lot of time to calculate the MFCC coefficients of traning set, ***30 min*** to load 3510 sound files"
   ]
  },
  {
   "cell_type": "code",
   "execution_count": 9,
   "metadata": {
    "ExecuteTime": {
     "end_time": "2020-03-26T19:44:36.019102Z",
     "start_time": "2020-03-26T19:44:32.978531Z"
    }
   },
   "outputs": [
    {
     "name": "stdout",
     "output_type": "stream",
     "text": [
      "MFCC shape is  (3510, 20, 431)\n",
      "Wall time: 3.03 s\n"
     ]
    }
   ],
   "source": [
    "%%time\n",
    "\n",
    "# MFCC is a matrix who stores the MFCC coefficients of each audio\n",
    "\n",
    "if os.path.exists('MFCC.npy'):\n",
    "    MFCC = np.load('MFCC.npy')\n",
    "else:\n",
    "    MFCC = np.zeros((n_sound,20,431))\n",
    "    i = 0\n",
    "    for song,label in zip(audio,fold1_label_train):\n",
    "        y, sr = librosa.load(song, mono=True)    # original audio file lasts for 10 seconds\n",
    "        MFCC[i,:,:]= librosa.feature.mfcc(y=y, sr=sr)    # 20 * 431\n",
    "        i+=1\n",
    "    np.save('MFCC.npy',MFCC)\n",
    "print('MFCC shape is ',MFCC.shape)"
   ]
  },
  {
   "cell_type": "markdown",
   "metadata": {},
   "source": [
    "# fenêtre de texture"
   ]
  },
  {
   "cell_type": "code",
   "execution_count": 32,
   "metadata": {
    "ExecuteTime": {
     "end_time": "2020-03-26T19:51:45.673282Z",
     "start_time": "2020-03-26T19:51:45.647301Z"
    }
   },
   "outputs": [],
   "source": [
    "# x and y should be vectors\n",
    "def dist(x,y,choix):\n",
    "    x_ = (x-np.mean(x))/np.std(x)\n",
    "    y_ = (y-np.mean(y))/np.std(y)\n",
    "    if choix == \"euclidian\":\n",
    "        return(np.linalg.norm(x_-y_))\n",
    "    elif choix==\"cosine\":\n",
    "        return(1- np.vdot(x_,y_)/np.linalg.norm(x_)/np.linalg.norm(y_))\n",
    "    \n",
    "# x and y are feature matrix, the function will calculate the temporal mean MFCC coefficients\n",
    "def dist_moy(x,y,choix):\n",
    "    \"\"\"x et y sont des matrices de MFCC. On calcule la distance entre x et y en faisant la \n",
    "    moyenne de chaque dans les matrices puis on regarde la distance entre les deux vecteurs de moyennes.\"\"\"\n",
    "    \n",
    "    xbarre = np.mean(x,axis=1)\n",
    "    ybarre = np.mean(y,axis=1)\n",
    "    output = dist(xbarre,ybarre,choix)\n",
    "    return(output)\n",
    "\n",
    "def wind_texture(M,wsize):\n",
    "    \"\"\"Calcul les moyennes temporelles des fenêtres de textures dans une matrice de MFCC.\n",
    "\n",
    "    M : Matrice de MFCC au format Quefrence x temps\n",
    "    wsize : Nombre de trames retenues dans la fenêtre\"\"\"\n",
    "\n",
    "    # n est le nombre de caractéristiques, m est la nombre de trame\n",
    "    n,m = M.shape\n",
    "    nwind = m//wsize\n",
    "    \n",
    "    W = np.zeros((n,nwind))\n",
    "    \n",
    "    for i in range (nwind):\n",
    "        W[:,i] = np.mean(M[:,i*wsize:(i+1)*wsize],axis=1)\n",
    "    \n",
    "    return(W)\n",
    "\n",
    "def dist_wind(A,B,choix,wsize):\n",
    "    \"\"\"La distance entre A et B correspond à la distance entre les deux fenêtres les plus proches.\n",
    "    \n",
    "    A,B : Matrices de MFCC\n",
    "    choix : distance euclidienne ou cosinus\"\"\"\n",
    "    \n",
    "    x = wind_texture(A,wsize)\n",
    "    y = wind_texture(B,wsize)\n",
    "    \n",
    "    n,m = np.shape(x)\n",
    "    distxy = np.zeros((m,1))\n",
    "    \n",
    "    for k in range(m):\n",
    "        distxy[k] = dist(x[:,k],y[:,k],choix)\n",
    "    return(np.min(distxy))\n",
    "#     return(distxy[np.where(distxy==min(distxy))[0][0]])\n",
    "\n",
    "def p_at_k_index(m,mat_dist,k):\n",
    "\n",
    "# for m-th scene, return the index which indicate the k nearest neighbors\n",
    "\n",
    "    N_train = mat_dist.shape[0]\n",
    "    p_k = np.zeros(N_train)\n",
    "    dist = mat_dist[m,:]\n",
    "    distsort = np.argsort(np.ravel(dist)) # from small to big\n",
    "    return distsort[1:k+1]\n",
    "\n",
    "def centroid(S):\n",
    "    # S is the MFCC column\n",
    "#     freq = np.linspace(0,sr/2,nfft/2+1)\n",
    "    freq = np.linspace(10,1024,20)\n",
    "    freq = np.log(freq)\n",
    "    centroid = np.sum(S*freq)/np.sum(S) \n",
    "    return centroid"
   ]
  },
  {
   "cell_type": "code",
   "execution_count": 11,
   "metadata": {
    "ExecuteTime": {
     "end_time": "2020-03-26T19:44:36.992508Z",
     "start_time": "2020-03-26T19:44:36.124046Z"
    }
   },
   "outputs": [
    {
     "name": "stdout",
     "output_type": "stream",
     "text": [
      "training data format:  (3510, 19, 431)\n"
     ]
    }
   ],
   "source": [
    "# Normalization on each segment of MFCC matrix\n",
    "N_train = len(audio_train)\n",
    "data_train = MFCC[:,1:,:]   # eliminate the first MFCC coefficient which indicates the energy of each segment\n",
    "data_train_norm = np.zeros(np.shape(data_train))\n",
    "for i in range(N_train):\n",
    "    data_ = data_train[i,:,:]\n",
    "    data_train_norm[i,:,:] = (data_- np.mean(data_,axis=0))/np.std(data_,axis=0)\n",
    "print('training data format: ',data_train_norm.shape)"
   ]
  },
  {
   "cell_type": "code",
   "execution_count": null,
   "metadata": {
    "ExecuteTime": {
     "end_time": "2020-03-26T19:47:00.339483Z",
     "start_time": "2020-03-26T19:46:54.002663Z"
    }
   },
   "outputs": [],
   "source": [
    "# test about spectral centroid\n",
    "nfft = 2048\n",
    "song = audio_train[0]\n",
    "y, sr = librosa.load(song, mono=True)\n",
    "S, phase = librosa.magphase(librosa.stft(y=y))\n",
    "centroid = librosa.feature.spectral_centroid(y=y,sr=sr)\n",
    "freq = np.linspace(0,sr/2,nfft/2+1).reshape(-1,1)\n",
    "freq = np.tile(freq,(1,np.shape(S)[1]))\n",
    "cen = np.sum(S*freq,axis=0)/np.sum(S,axis=0)  # equal to centroid"
   ]
  },
  {
   "cell_type": "code",
   "execution_count": 18,
   "metadata": {
    "ExecuteTime": {
     "end_time": "2020-03-26T19:47:55.298521Z",
     "start_time": "2020-03-26T19:47:54.019121Z"
    }
   },
   "outputs": [
    {
     "name": "stdout",
     "output_type": "stream",
     "text": [
      "Wall time: 1.27 s\n"
     ]
    }
   ],
   "source": [
    "%%time\n",
    "if os.path.exists('mat_dist_moy.npy'):\n",
    "    mat_dist_moy = np.load('mat_dist_moy.npy')\n",
    "else:\n",
    "    mat_dist_moy = np.zeros((N_train,N_train))  # calculate the distance among all 3510 files\n",
    "    for i in range(N_train):\n",
    "        for j in range(i,N_train):\n",
    "            mat_dist_moy[i,j] = dist_moy(data_train_norm[i],data_train_norm[j],'euclidian')\n",
    "            mat_dist_moy[j,i] = mat_dist_moy[i,j]\n",
    "    # 20 min to calculate the disrtance\n",
    "    np.save('mat_dist_moy.npy', mat_dist_moy)"
   ]
  },
  {
   "cell_type": "code",
   "execution_count": 39,
   "metadata": {
    "ExecuteTime": {
     "end_time": "2020-03-26T19:54:08.780660Z",
     "start_time": "2020-03-26T19:54:08.754680Z"
    }
   },
   "outputs": [],
   "source": [
    "def RBF(M, u, v, mat_dist, wsize,K=5, type = 'RBQ-c'):\n",
    "    \"\"\"\n",
    "    Input:\n",
    "    M: MFCC matrix which represent all scenes in the training set\n",
    "    u,v: u-th and v-th scene index,respectively which we will analyze\n",
    "    mat_dist: distance between every two scenes in the M matrix \n",
    "    labels: scene type in the M matrix\n",
    "    K: number of nearest neighbors\n",
    "    type: kernel type\n",
    "    \n",
    "    Output:\n",
    "    similarity:  imilarity between the scene centroids over the entire dataset\n",
    "    \n",
    "    Attention:\n",
    "    1.Here, μ_um_q and μ_vn_q are the q-th nearest neighbors to the centroids μ_um and μ_vn, respectively\n",
    "    2.By default the Euclidean norm is to be used.\n",
    "    3.Three types to be selected: RBQ-c, RBQ-a, RBQ-w, by default RBQ-c\n",
    "    4.By default we consider K-nearest neignbors K=5\n",
    "    \"\"\"\n",
    "    U = M[u,:,:]   # feature matrix of each scene\n",
    "    V = M[v,:,:]\n",
    "    \n",
    "    μ_um = wind_texture(U,wsize)  # window filtered feature matrix \n",
    "    μ_vn = wind_texture(V,wsize)\n",
    "    \n",
    "    d,m = μ_um.shape   # after window, d: feature number; m,n: segment number, m=n\n",
    "    d,n = μ_vn.shape\n",
    "    \n",
    "    u_knn = p_at_k_index(u,mat_dist,K)  # index\n",
    "    v_knn = p_at_k_index(v,mat_dist,K)\n",
    "    \n",
    "    K_mn = np.zeros((K,m,n)) # K nearest neighbors->K elements\n",
    "    \n",
    "    for q in range(K):\n",
    "        μ_um_q = M[u_knn[q],:,:]  # feature matrix of q-th nearest neighbors for each scene\n",
    "        μ_vn_q = M[v_knn[q],:,:]\n",
    "        \n",
    "        μ_um_q = wind_texture(μ_um_q,wsize)  # window filtered feature matrix \n",
    "        μ_vn_q = wind_texture(μ_vn_q,wsize)\n",
    "        \n",
    "        for mm in range(m):\n",
    "            for nn in range(n):\n",
    "                UM = μ_um[:,mm]\n",
    "                VN = μ_vn[:,nn]\n",
    "                UMQ = μ_um_q[:,mm]\n",
    "                VNQ = μ_vn_q[:,nn]\n",
    "                num = centroid(UM - VN)\n",
    "                den = (centroid(UM - UMQ))*(centroid(VN - VNQ))\n",
    "                R = num*2 / den\n",
    "                K_mn[q,mm,nn] = np.exp(-R)\n",
    "        \n",
    "    if type=='RBQ-c':\n",
    "        temp = np.max(K_mn,axis = 1)\n",
    "        similarity = np.max(temp,axis = 1)\n",
    "    elif type == 'RBQ-a':\n",
    "        temp = np.mean(K_mn,axis = 1)\n",
    "        similarity = np.mean(temp,axis = 1)\n",
    "    elif type == 'RBQ-w':\n",
    "        # Suppose in the matrix μ_um there are M columns so there will be M centroids\n",
    "        # each of the M centroids μu1, . . . , μuM are paired with corresponding weights wu1, . . . , wuM\n",
    "        # The weight wum for the m-th centroid μum is the number of frames belonging to a particular cluster\n",
    "        # Since wh use the windows with equal length so the weight is the same for each columm\n",
    "        \n",
    "        w = np.ones((K,m,n))/(m*n)\n",
    "        temp = np.sum(K_mn*w,axis=1)\n",
    "        similarity = np.sum(temp,axis=1)\n",
    "    else:\n",
    "        return(print('Wrong type!'))\n",
    "    return(similarity)"
   ]
  },
  {
   "cell_type": "code",
   "execution_count": 40,
   "metadata": {
    "ExecuteTime": {
     "end_time": "2020-03-26T19:54:12.243500Z",
     "start_time": "2020-03-26T19:54:11.373469Z"
    }
   },
   "outputs": [
    {
     "data": {
      "text/plain": [
       "array([2.46579221e+123, 1.94563408e+129, 4.06307248e+075, 3.53857383e+103,\n",
       "       5.24892161e+006])"
      ]
     },
     "execution_count": 40,
     "metadata": {},
     "output_type": "execute_result"
    }
   ],
   "source": [
    "RBF(MFCC, 1, 2, mat_dist_moy, 21,K=5, type = 'RBQ-c')"
   ]
  },
  {
   "cell_type": "code",
   "execution_count": 44,
   "metadata": {
    "ExecuteTime": {
     "end_time": "2020-03-26T19:55:58.811278Z",
     "start_time": "2020-03-26T19:55:14.177579Z"
    }
   },
   "outputs": [],
   "source": [
    "# matrix rbf shows the similarity between every two scene in the training set\n",
    "\n",
    "# nb_train = len(audio_train)\n",
    "# rbf = np.zeros((nb_train,nb_train))\n",
    "# for u in range(nb_train):\n",
    "#     for v in range(nb_train):\n",
    "#         rbf[u,v] = RBF(MFCC,u,v,mat_dist_moy, 21,K=5, type = 'RBQ-c').max()\n"
   ]
  },
  {
   "cell_type": "code",
   "execution_count": 305,
   "metadata": {
    "ExecuteTime": {
     "end_time": "2020-03-08T19:06:39.876727Z",
     "start_time": "2020-03-08T19:06:39.863733Z"
    }
   },
   "outputs": [
    {
     "name": "stdout",
     "output_type": "stream",
     "text": [
      "fold 1 has 1170 documents to test\n"
     ]
    }
   ],
   "source": [
    "test = os.path.join(file_path,fold1[0])\n",
    "fold1_filename_test = []\n",
    "fold1_label_test = []\n",
    "\n",
    "with open(test, 'r') as f:\n",
    "    data = f.readlines()  #data reading line by line\n",
    " \n",
    "    for line in data:\n",
    "        record = line.split()        #split the filename and label\n",
    "        fold1_filename_test.append(record[0][6:])\n",
    "        fold1_label_test.append(record[1])\n",
    "print('fold 1 has {} documents to test'.format(len(fold1_filename_test)))\n"
   ]
  },
  {
   "cell_type": "code",
   "execution_count": 306,
   "metadata": {
    "ExecuteTime": {
     "end_time": "2020-03-08T19:06:40.465171Z",
     "start_time": "2020-03-08T19:06:40.272292Z"
    }
   },
   "outputs": [
    {
     "name": "stdout",
     "output_type": "stream",
     "text": [
      "Test set has 1170 records\n",
      "There are 15 classes in the test set\n"
     ]
    }
   ],
   "source": [
    "audio_test = []\n",
    "\n",
    "for root,dirnames,filenames in os.walk('./'):\n",
    "    for filename in filenames:\n",
    "         if filename in fold1_filename_test:\n",
    "            f = os.path.join(root, filename)\n",
    "            audio_test.append(f)\n",
    "\n",
    "print(f'Test set has {len(audio_test)} records')\n",
    "classes_test = set(fold1_label_test)\n",
    "n_classes_test = len(classes_test)\n",
    "print(f'There are {n_classes_test} classes in the test set')"
   ]
  },
  {
   "cell_type": "code",
   "execution_count": 307,
   "metadata": {
    "ExecuteTime": {
     "end_time": "2020-03-08T19:06:40.643960Z",
     "start_time": "2020-03-08T19:06:40.637961Z"
    }
   },
   "outputs": [],
   "source": [
    "temp=[]\n",
    "for label in fold1_label_test:\n",
    "    temp.append(dictionary[label])\n",
    "fold1_label_test= temp"
   ]
  },
  {
   "cell_type": "markdown",
   "metadata": {},
   "source": [
    "It takes a lot of time to calculate the MFCC coefficients of test set, about 11m 7s to finish the calculation."
   ]
  },
  {
   "cell_type": "code",
   "execution_count": 308,
   "metadata": {
    "ExecuteTime": {
     "end_time": "2020-03-08T19:06:43.081772Z",
     "start_time": "2020-03-08T19:06:41.818136Z"
    }
   },
   "outputs": [
    {
     "name": "stdout",
     "output_type": "stream",
     "text": [
      "Wall time: 1.26 s\n"
     ]
    }
   ],
   "source": [
    "%%time\n",
    "# M_test is a matrix who stores the MFCC infomation about each test audio\n",
    "\n",
    "if os.path.exists('M_test.npy'):\n",
    "    M_test = np.load('M_test.npy')\n",
    "else:\n",
    "    M_test = np.zeros((len(audio_test),20,431))\n",
    "    i = 0\n",
    "    for song in audio_test:\n",
    "        y, sr = librosa.load(song, mono=True) \n",
    "        M_test[i,:,:] = librosa.feature.mfcc(y=y, sr=sr)\n",
    "        i+=1 \n",
    "    np.save('M_test.npy',M_test)   "
   ]
  },
  {
   "cell_type": "code",
   "execution_count": 309,
   "metadata": {
    "ExecuteTime": {
     "end_time": "2020-03-08T19:06:43.521501Z",
     "start_time": "2020-03-08T19:06:43.167720Z"
    }
   },
   "outputs": [
    {
     "name": "stdout",
     "output_type": "stream",
     "text": [
      "test data format:  (1170, 19, 431)\n"
     ]
    }
   ],
   "source": [
    "# Normalization on each segment of MFCC matrix\n",
    "\n",
    "N_test = len(audio_test)\n",
    "data_test = M_test[:,1:,:]  # eliminate the first MFCC coefficient which indicates the energy of each segment\n",
    "data_test_norm = np.zeros(np.shape(data_test))\n",
    "\n",
    "for i in range(N_test):\n",
    "    data_ = data_test[i,:,:]\n",
    "    data_test_norm[i,:,:] = (data_-np.mean(data_,axis=0))/np.std(data_,axis=0)\n",
    "print('test data format: ',data_test_norm.shape)"
   ]
  },
  {
   "cell_type": "code",
   "execution_count": 310,
   "metadata": {
    "ExecuteTime": {
     "end_time": "2020-03-08T19:06:44.147703Z",
     "start_time": "2020-03-08T19:06:44.140707Z"
    }
   },
   "outputs": [
    {
     "name": "stdout",
     "output_type": "stream",
     "text": [
      "(1170, 19, 431)\n",
      "(3510, 19, 431)\n",
      "3510\n",
      "1170\n"
     ]
    }
   ],
   "source": [
    "print(data_test_norm.shape)\n",
    "print(data_train_norm.shape)\n",
    "print(len(fold1_label_train))\n",
    "print(len(fold1_label_test))"
   ]
  }
 ],
 "metadata": {
  "kernelspec": {
   "display_name": "Python 3",
   "language": "python",
   "name": "python3"
  },
  "language_info": {
   "codemirror_mode": {
    "name": "ipython",
    "version": 3
   },
   "file_extension": ".py",
   "mimetype": "text/x-python",
   "name": "python",
   "nbconvert_exporter": "python",
   "pygments_lexer": "ipython3",
   "version": "3.7.3"
  },
  "toc": {
   "base_numbering": 1,
   "nav_menu": {},
   "number_sections": true,
   "sideBar": true,
   "skip_h1_title": false,
   "title_cell": "Table of Contents",
   "title_sidebar": "Contents",
   "toc_cell": false,
   "toc_position": {},
   "toc_section_display": true,
   "toc_window_display": false
  },
  "varInspector": {
   "cols": {
    "lenName": 16,
    "lenType": 16,
    "lenVar": 40
   },
   "kernels_config": {
    "python": {
     "delete_cmd_postfix": "",
     "delete_cmd_prefix": "del ",
     "library": "var_list.py",
     "varRefreshCmd": "print(var_dic_list())"
    },
    "r": {
     "delete_cmd_postfix": ") ",
     "delete_cmd_prefix": "rm(",
     "library": "var_list.r",
     "varRefreshCmd": "cat(var_dic_list()) "
    }
   },
   "types_to_exclude": [
    "module",
    "function",
    "builtin_function_or_method",
    "instance",
    "_Feature"
   ],
   "window_display": false
  }
 },
 "nbformat": 4,
 "nbformat_minor": 2
}
