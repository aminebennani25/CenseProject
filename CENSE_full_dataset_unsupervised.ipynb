{
 "cells": [
  {
   "cell_type": "code",
   "execution_count": 130,
   "metadata": {
    "ExecuteTime": {
     "end_time": "2020-03-08T16:46:02.110826Z",
     "start_time": "2020-03-08T16:46:02.086843Z"
    }
   },
   "outputs": [],
   "source": [
    "import librosa.display\n",
    "import IPython.display as ipd\n",
    "\n",
    "# feature extractoring and preprocessing data\n",
    "import librosa\n",
    "import pandas as pd\n",
    "import numpy as np\n",
    "import matplotlib.pyplot as plt\n",
    "%matplotlib inline\n",
    "import os\n",
    "\n",
    "from PIL import Image\n",
    "import pathlib\n",
    "\n",
    "# Preprocessing\n",
    "from sklearn.model_selection import train_test_split\n",
    "from sklearn.preprocessing import LabelEncoder, StandardScaler\n",
    "\n",
    "# Normalization\n",
    "from sklearn import preprocessing \n",
    "\n",
    "import warnings\n",
    "warnings.filterwarnings('ignore')"
   ]
  },
  {
   "cell_type": "code",
   "execution_count": 3,
   "metadata": {
    "ExecuteTime": {
     "end_time": "2020-03-08T13:02:50.904382Z",
     "start_time": "2020-03-08T13:02:50.880398Z"
    }
   },
   "outputs": [],
   "source": [
    "np.random.seed(43)\n",
    "file_path = '.\\TUT-acoustic-scenes-2017-development.meta\\TUT-acoustic-scenes-2017-development\\evaluation_setup'\n",
    "fold1 = os.listdir(file_path)"
   ]
  },
  {
   "cell_type": "code",
   "execution_count": 300,
   "metadata": {
    "ExecuteTime": {
     "end_time": "2020-03-08T19:06:23.602463Z",
     "start_time": "2020-03-08T19:06:23.586470Z"
    }
   },
   "outputs": [
    {
     "name": "stdout",
     "output_type": "stream",
     "text": [
      "fold 1 has 3510 sounds to train\n"
     ]
    }
   ],
   "source": [
    "train = os.path.join(file_path,fold1[2])\n",
    "fold1_filename_train = []\n",
    "fold1_label_train = []\n",
    "with open(train, 'r') as f:\n",
    "    data = f.readlines()  #data reading line by line\n",
    "    for line in data:\n",
    "        record = line.split()        #split the filename and label\n",
    "        fold1_filename_train.append(record[0][6:])\n",
    "        fold1_label_train.append(record[1])\n",
    "print('fold 1 has {} sounds to train'.format(len(fold1_filename_train)))\n"
   ]
  },
  {
   "cell_type": "markdown",
   "metadata": {},
   "source": [
    "Because training set is too large, so we can take out some songs for testing our method"
   ]
  },
  {
   "cell_type": "code",
   "execution_count": 301,
   "metadata": {
    "ExecuteTime": {
     "end_time": "2020-03-08T19:06:24.359420Z",
     "start_time": "2020-03-08T19:06:24.354424Z"
    }
   },
   "outputs": [],
   "source": [
    "# audio = []\n",
    "# for root,dirnames,filenames in os.walk('./'):\n",
    "#     for filename in filenames:\n",
    "#         f = os.path.join(root, filename)\n",
    "#         if f.endswith('.wav'):\n",
    "#             audio.append(f)"
   ]
  },
  {
   "cell_type": "code",
   "execution_count": 302,
   "metadata": {
    "ExecuteTime": {
     "end_time": "2020-03-08T19:06:25.295113Z",
     "start_time": "2020-03-08T19:06:24.853389Z"
    }
   },
   "outputs": [
    {
     "name": "stdout",
     "output_type": "stream",
     "text": [
      "training test has 3510 data\n",
      "training test label has 3510 records\n",
      "There are 15 classes in the training data\n"
     ]
    }
   ],
   "source": [
    "audio_train = []\n",
    "\n",
    "indices = np.arange(len(fold1_filename_train))\n",
    "np.random.shuffle(indices)\n",
    "n_sound = len(fold1_filename_train)  # select some data to have a try, otherwise we consider the whole data set\n",
    "indices = indices[:n_sound]\n",
    "fold1_filename_train = np.array(fold1_filename_train)[indices]\n",
    "fold1_label_train = np.array(fold1_label_train)[indices]\n",
    "\n",
    "for root,dirnames,filenames in os.walk('./'):\n",
    "    for filename in filenames:\n",
    "         if filename in fold1_filename_train:\n",
    "            f = os.path.join(root, filename)\n",
    "            audio_train.append(f)\n",
    "print(f'training test has {len(audio_train)} data')\n",
    "print(f'training test label has {len(fold1_label_train)} records')\n",
    "classes_train = set(fold1_label_train)  # find the unique elements\n",
    "n_classes_train = len(classes_train)\n",
    "print(f'There are {n_classes_train} classes in the training data')"
   ]
  },
  {
   "cell_type": "code",
   "execution_count": 303,
   "metadata": {
    "ExecuteTime": {
     "end_time": "2020-03-08T19:06:25.529060Z",
     "start_time": "2020-03-08T19:06:25.519066Z"
    }
   },
   "outputs": [
    {
     "name": "stdout",
     "output_type": "stream",
     "text": [
      "label list :\n",
      "\n",
      "metro_station 0\n",
      "home 1\n",
      "beach 2\n",
      "cafe/restaurant 3\n",
      "residential_area 4\n",
      "city_center 5\n",
      "car 6\n",
      "forest_path 7\n",
      "grocery_store 8\n",
      "office 9\n",
      "train 10\n",
      "tram 11\n",
      "park 12\n",
      "bus 13\n",
      "library 14\n"
     ]
    }
   ],
   "source": [
    "dictionary = dict(zip(classes_train, list(np.arange(n_classes_test))))  # build the connection between labels and numbers\n",
    "print('label list :\\n')\n",
    "for item in classes_train:\n",
    "    print(item, dictionary[item])\n"
   ]
  },
  {
   "cell_type": "code",
   "execution_count": 304,
   "metadata": {
    "ExecuteTime": {
     "end_time": "2020-03-08T19:06:26.432046Z",
     "start_time": "2020-03-08T19:06:26.424051Z"
    }
   },
   "outputs": [],
   "source": [
    "temp=[]\n",
    "for label in fold1_label_train:\n",
    "    temp.append(dictionary[label])\n",
    "fold1_label_train= temp"
   ]
  },
  {
   "cell_type": "markdown",
   "metadata": {},
   "source": [
    "It takes a lot of time to calculate the MFCC coefficients of traning set, ***30 min*** to load 3510 sound files"
   ]
  },
  {
   "cell_type": "code",
   "execution_count": 231,
   "metadata": {
    "ExecuteTime": {
     "end_time": "2020-03-08T18:49:44.057288Z",
     "start_time": "2020-03-08T18:49:40.795982Z"
    }
   },
   "outputs": [
    {
     "name": "stdout",
     "output_type": "stream",
     "text": [
      "Wall time: 0 ns\n"
     ]
    }
   ],
   "source": [
    "%%time\n",
    "\n",
    "# MFCC is a matrix who stores the MFCC coefficients of each audio\n",
    "\n",
    "if os.path.exists('MFCC.npy'):\n",
    "    MFCC = np.load('MFCC.npy')\n",
    "else:\n",
    "    MFCC = np.zeros((n_sound,20,431))\n",
    "    i = 0\n",
    "    for song,label in zip(audio,fold1_label_train):\n",
    "        y, sr = librosa.load(song, mono=True)    # original audio file lasts for 10 seconds\n",
    "        MFCC[i,:,:]= librosa.feature.mfcc(y=y, sr=sr)    # 20 * 431\n",
    "        i+=1\n",
    "    np.save('MFCC.npy',MFCC)"
   ]
  },
  {
   "cell_type": "code",
   "execution_count": 169,
   "metadata": {
    "ExecuteTime": {
     "end_time": "2020-03-08T17:17:55.717836Z",
     "start_time": "2020-03-08T17:17:55.712839Z"
    }
   },
   "outputs": [
    {
     "name": "stdout",
     "output_type": "stream",
     "text": [
      "(3510, 20, 431)\n"
     ]
    }
   ],
   "source": [
    "print(MFCC.shape)"
   ]
  },
  {
   "cell_type": "code",
   "execution_count": 329,
   "metadata": {
    "ExecuteTime": {
     "end_time": "2020-03-08T19:19:42.253816Z",
     "start_time": "2020-03-08T19:19:42.240823Z"
    }
   },
   "outputs": [],
   "source": [
    "# x and y should be vectors\n",
    "def dist(x,y,choix):\n",
    "    x_ = (x-np.mean(x))/np.std(x)\n",
    "    y_ = (y-np.mean(y))/np.std(y)\n",
    "    if choix == \"euclidian\":\n",
    "        return(np.linalg.norm(x_-y_))\n",
    "    elif choix==\"cosine\":\n",
    "        return(1- np.vdot(x_,y_)/np.linalg.norm(x_)/np.linalg.norm(y_))\n",
    "    \n",
    "# x and y are feature matrix, the function will calculate the temporal mean MFCC coefficients\n",
    "def dist_moy(x,y,choix):\n",
    "    \"\"\"x et y sont des matrices de MFCC. On calcule la distance entre x et y en faisant la \n",
    "    moyenne de chaque dans les matrices puis on regarde la distance entre les deux vecteurs de moyennes.\"\"\"\n",
    "    \n",
    "    xbarre = np.mean(x,axis=1)\n",
    "    ybarre = np.mean(y,axis=1)\n",
    "    output = dist(xbarre,ybarre,choix)\n",
    "    return(output)"
   ]
  },
  {
   "cell_type": "code",
   "execution_count": 337,
   "metadata": {
    "ExecuteTime": {
     "end_time": "2020-03-08T19:21:10.832915Z",
     "start_time": "2020-03-08T19:21:10.820921Z"
    }
   },
   "outputs": [
    {
     "data": {
      "text/plain": [
       "1.108545931621443"
      ]
     },
     "execution_count": 337,
     "metadata": {},
     "output_type": "execute_result"
    }
   ],
   "source": [
    "# def dist_moy(x,y,choix):\n",
    "#     \"\"\"x et y sont des matrices de MFCC. On calcule la distance entre x et y en faisant la \n",
    "#     moyenne de chaque dans les matrices puis on regarde la distance entre les deux vecteurs de moyennes.\"\"\"\n",
    "    \n",
    "#     xbarre = np.mean(x,axis=1)\n",
    "#     ybarre = np.mean(y,axis=1)\n",
    "    \n",
    "#     return(dist(xbarre,ybarre,choix))\n",
    "# dist_moy(data_train_norm[0],data_test_norm[0],'euclidian')\n",
    "# dist_moy(data_test_norm[0],data_test_norm[1],'euclidian')"
   ]
  },
  {
   "cell_type": "code",
   "execution_count": 338,
   "metadata": {
    "ExecuteTime": {
     "end_time": "2020-03-08T19:21:17.610490Z",
     "start_time": "2020-03-08T19:21:17.600498Z"
    }
   },
   "outputs": [
    {
     "data": {
      "text/plain": [
       "0.03233879164511755"
      ]
     },
     "execution_count": 338,
     "metadata": {},
     "output_type": "execute_result"
    }
   ],
   "source": [
    "# x = data_train_norm[0]\n",
    "# y = data_test_norm[0]\n",
    "# xbarre = np.mean(x,axis=1)\n",
    "# ybarre = np.mean(y,axis=1)\n",
    "# dist(xbarre,ybarre,'cosine')"
   ]
  },
  {
   "cell_type": "code",
   "execution_count": 243,
   "metadata": {
    "ExecuteTime": {
     "end_time": "2020-03-08T18:55:23.623674Z",
     "start_time": "2020-03-08T18:55:22.731228Z"
    }
   },
   "outputs": [
    {
     "name": "stdout",
     "output_type": "stream",
     "text": [
      "training data format:  (3510, 19, 431)\n"
     ]
    }
   ],
   "source": [
    "# Normalization on each segment of MFCC matrix\n",
    "N_train = len(audio_train)\n",
    "data_train = MFCC[:,1:,:]   # eliminate the first MFCC coefficient which indicates the energy of each segment\n",
    "data_train_norm = np.zeros(np.shape(data_train))\n",
    "for i in range(N_train):\n",
    "    data_ = data_train[i,:,:]\n",
    "    data_train_norm[i,:,:] = (data_-np.mean(data_,axis=0))/np.std(data_,axis=0)\n",
    "print('training data format: ',data_train_norm.shape)"
   ]
  },
  {
   "cell_type": "code",
   "execution_count": 232,
   "metadata": {
    "ExecuteTime": {
     "end_time": "2020-03-08T18:49:52.232150Z",
     "start_time": "2020-03-08T18:49:50.987922Z"
    }
   },
   "outputs": [
    {
     "name": "stdout",
     "output_type": "stream",
     "text": [
      "Wall time: 1.24 s\n"
     ]
    }
   ],
   "source": [
    "%%time\n",
    "if os.path.exists('mat_dist_moy.npy'):\n",
    "    mat_dist_moy = np.load('mat_dist_moy.npy')\n",
    "else:\n",
    "    mat_dist_moy = np.zeros((N_train,N_train))  # calculate the distance among all 3510 files\n",
    "    for i in range(N_train):\n",
    "        for j in range(i,N_train):\n",
    "            mat_dist_moy[i,j] = dist_moy(data_train_norm[i],data_train_norm[j],'euclidian')\n",
    "            mat_dist_moy[j,i] = mat_dist_moy[i,j]\n",
    "    # 20 min to calculate the disrtance\n",
    "    np.save('mat_dist_moy.npy', mat_dist_moy)"
   ]
  },
  {
   "cell_type": "code",
   "execution_count": 218,
   "metadata": {
    "ExecuteTime": {
     "end_time": "2020-03-08T18:47:43.056294Z",
     "start_time": "2020-03-08T18:47:41.471224Z"
    }
   },
   "outputs": [
    {
     "name": "stdout",
     "output_type": "stream",
     "text": [
      "p@5 MFCC normalisés :  [0. 0. 0. ... 0. 0. 0.]\n"
     ]
    },
    {
     "data": {
      "image/png": "[encoded data removed]",
      "text/plain": [
       "<Figure size 432x288 with 1 Axes>"
      ]
     },
     "metadata": {
      "needs_background": "light"
     },
     "output_type": "display_data"
    }
   ],
   "source": [
    "def p_at_k(mat_dist,k,labels):\n",
    "    N_train = mat_dist.shape[0]\n",
    "    p5 = np.zeros(N_train)\n",
    "    labels = np.array(labels)\n",
    "    for i in range(N_train):\n",
    "        dist = mat_dist[i,:]\n",
    "        distsort = np.argsort(np.ravel(dist)) # from small to big\n",
    "\n",
    "        p5[i] = np.sum([labels[distsort[i]]==labels[i] for i in range(1,k+1)])/k\n",
    "    return p5\n",
    "\n",
    "K  =  5  # precision @ K / top K metric\n",
    "precision = p_at_k(mat_dist_moy,K ,fold1_label_train)\n",
    "print('p@5 MFCC normalisés : ',precision)\n",
    "plt.hist(precision, np.arange(K+1)/K)\n",
    "plt.show()"
   ]
  },
  {
   "cell_type": "code",
   "execution_count": 305,
   "metadata": {
    "ExecuteTime": {
     "end_time": "2020-03-08T19:06:39.876727Z",
     "start_time": "2020-03-08T19:06:39.863733Z"
    }
   },
   "outputs": [
    {
     "name": "stdout",
     "output_type": "stream",
     "text": [
      "fold 1 has 1170 documents to test\n"
     ]
    }
   ],
   "source": [
    "test = os.path.join(file_path,fold1[0])\n",
    "fold1_filename_test = []\n",
    "fold1_label_test = []\n",
    "\n",
    "with open(test, 'r') as f:\n",
    "    data = f.readlines()  #data reading line by line\n",
    " \n",
    "    for line in data:\n",
    "        record = line.split()        #split the filename and label\n",
    "        fold1_filename_test.append(record[0][6:])\n",
    "        fold1_label_test.append(record[1])\n",
    "print('fold 1 has {} documents to test'.format(len(fold1_filename_test)))\n"
   ]
  },
  {
   "cell_type": "code",
   "execution_count": 306,
   "metadata": {
    "ExecuteTime": {
     "end_time": "2020-03-08T19:06:40.465171Z",
     "start_time": "2020-03-08T19:06:40.272292Z"
    }
   },
   "outputs": [
    {
     "name": "stdout",
     "output_type": "stream",
     "text": [
      "Test set has 1170 records\n",
      "There are 15 classes in the test set\n"
     ]
    }
   ],
   "source": [
    "audio_test = []\n",
    "\n",
    "for root,dirnames,filenames in os.walk('./'):\n",
    "    for filename in filenames:\n",
    "         if filename in fold1_filename_test:\n",
    "            f = os.path.join(root, filename)\n",
    "            audio_test.append(f)\n",
    "\n",
    "print(f'Test set has {len(audio_test)} records')\n",
    "classes_test = set(fold1_label_test)\n",
    "n_classes_test = len(classes_test)\n",
    "print(f'There are {n_classes_test} classes in the test set')"
   ]
  },
  {
   "cell_type": "code",
   "execution_count": 307,
   "metadata": {
    "ExecuteTime": {
     "end_time": "2020-03-08T19:06:40.643960Z",
     "start_time": "2020-03-08T19:06:40.637961Z"
    }
   },
   "outputs": [],
   "source": [
    "temp=[]\n",
    "for label in fold1_label_test:\n",
    "    temp.append(dictionary[label])\n",
    "fold1_label_test= temp"
   ]
  },
  {
   "cell_type": "markdown",
   "metadata": {},
   "source": [
    "It takes a lot of time to calculate the MFCC coefficients of test set, about 11m 7s to finish the calculation."
   ]
  },
  {
   "cell_type": "code",
   "execution_count": 308,
   "metadata": {
    "ExecuteTime": {
     "end_time": "2020-03-08T19:06:43.081772Z",
     "start_time": "2020-03-08T19:06:41.818136Z"
    }
   },
   "outputs": [
    {
     "name": "stdout",
     "output_type": "stream",
     "text": [
      "Wall time: 1.26 s\n"
     ]
    }
   ],
   "source": [
    "%%time\n",
    "# M_test is a matrix who stores the MFCC infomation about each test audio\n",
    "\n",
    "if os.path.exists('M_test.npy'):\n",
    "    M_test = np.load('M_test.npy')\n",
    "else:\n",
    "    M_test = np.zeros((len(audio_test),20,431))\n",
    "    i = 0\n",
    "    for song in audio_test:\n",
    "        y, sr = librosa.load(song, mono=True) \n",
    "        M_test[i,:,:] = librosa.feature.mfcc(y=y, sr=sr)\n",
    "        i+=1 \n",
    "    np.save('M_test.npy',M_test)   "
   ]
  },
  {
   "cell_type": "code",
   "execution_count": 309,
   "metadata": {
    "ExecuteTime": {
     "end_time": "2020-03-08T19:06:43.521501Z",
     "start_time": "2020-03-08T19:06:43.167720Z"
    }
   },
   "outputs": [
    {
     "name": "stdout",
     "output_type": "stream",
     "text": [
      "test data format:  (1170, 19, 431)\n"
     ]
    }
   ],
   "source": [
    "# Normalization on each segment of MFCC matrix\n",
    "\n",
    "N_test = len(audio_test)\n",
    "data_test = M_test[:,1:,:]  # eliminate the first MFCC coefficient which indicates the energy of each segment\n",
    "data_test_norm = np.zeros(np.shape(data_test))\n",
    "\n",
    "for i in range(N_test):\n",
    "    data_ = data_test[i,:,:]\n",
    "    data_test_norm[i,:,:] = (data_-np.mean(data_,axis=0))/np.std(data_,axis=0)\n",
    "print('test data format: ',data_test_norm.shape)"
   ]
  },
  {
   "cell_type": "code",
   "execution_count": 310,
   "metadata": {
    "ExecuteTime": {
     "end_time": "2020-03-08T19:06:44.147703Z",
     "start_time": "2020-03-08T19:06:44.140707Z"
    }
   },
   "outputs": [
    {
     "name": "stdout",
     "output_type": "stream",
     "text": [
      "(1170, 19, 431)\n",
      "(3510, 19, 431)\n",
      "3510\n",
      "1170\n"
     ]
    }
   ],
   "source": [
    "print(data_test_norm.shape)\n",
    "print(data_train_norm.shape)\n",
    "print(len(fold1_label_train))\n",
    "print(len(fold1_label_test))"
   ]
  },
  {
   "cell_type": "code",
   "execution_count": null,
   "metadata": {},
   "outputs": [],
   "source": []
  },
  {
   "cell_type": "code",
   "execution_count": 347,
   "metadata": {
    "ExecuteTime": {
     "end_time": "2020-03-08T19:42:01.147827Z",
     "start_time": "2020-03-08T19:42:01.105853Z"
    }
   },
   "outputs": [
    {
     "name": "stdout",
     "output_type": "stream",
     "text": [
      "Wall time: 36 ms\n"
     ]
    }
   ],
   "source": [
    "%%time\n",
    "\n",
    "if os.path.exists('dist_moy_cross.npy'):\n",
    "    mat_dist_moy = np.load('dist_moy_cross.npy')\n",
    "\n",
    "else:\n",
    "    dist_moy_cross = np.zeros((N_train,N_test))  # calculate the distance between any test file and any train file\n",
    "    \n",
    "    for i in range(N_train):\n",
    "        for j in range(N_test):\n",
    "            dist_moy_cross[i,j] = dist_moy(data_train_norm[i],data_test_norm[j],'euclidian')   # 15min 18s\n",
    "    np.save('dist_moy_cross.npy', dist_moy_cross)"
   ]
  },
  {
   "cell_type": "markdown",
   "metadata": {},
   "source": [
    "Predict the label according to the distance between any test audio to the train data"
   ]
  },
  {
   "cell_type": "code",
   "execution_count": 355,
   "metadata": {
    "ExecuteTime": {
     "end_time": "2020-03-08T19:47:24.408522Z",
     "start_time": "2020-03-08T19:47:24.072729Z"
    }
   },
   "outputs": [],
   "source": [
    "fold1_label_train = np.array(fold1_label_train)\n",
    "label_pred = np.zeros(N_test)\n",
    "for i in range(N_test):\n",
    "    dist = dist_moy_cross[:,i]\n",
    "    distsort = np.argsort(dist)  # from small to big\n",
    "    label_pred[i] = fold1_label_train[distsort[1]]  # better to choose the label with the maximum likelihood among the K nearest.\n"
   ]
  },
  {
   "cell_type": "code",
   "execution_count": 357,
   "metadata": {
    "ExecuteTime": {
     "end_time": "2020-03-08T19:48:17.172691Z",
     "start_time": "2020-03-08T19:48:17.166692Z"
    }
   },
   "outputs": [
    {
     "name": "stdout",
     "output_type": "stream",
     "text": [
      "[14.  4.  1. ... 12.  8.  4.]\n"
     ]
    }
   ],
   "source": [
    "print(label_pred)"
   ]
  }
 ],
 "metadata": {
  "kernelspec": {
   "display_name": "Python 3",
   "language": "python",
   "name": "python3"
  },
  "language_info": {
   "codemirror_mode": {
    "name": "ipython",
    "version": 3
   },
   "file_extension": ".py",
   "mimetype": "text/x-python",
   "name": "python",
   "nbconvert_exporter": "python",
   "pygments_lexer": "ipython3",
   "version": "3.7.3"
  },
  "toc": {
   "base_numbering": 1,
   "nav_menu": {},
   "number_sections": true,
   "sideBar": true,
   "skip_h1_title": false,
   "title_cell": "Table of Contents",
   "title_sidebar": "Contents",
   "toc_cell": false,
   "toc_position": {},
   "toc_section_display": true,
   "toc_window_display": false
  },
  "varInspector": {
   "cols": {
    "lenName": 16,
    "lenType": 16,
    "lenVar": 40
   },
   "kernels_config": {
    "python": {
     "delete_cmd_postfix": "",
     "delete_cmd_prefix": "del ",
     "library": "var_list.py",
     "varRefreshCmd": "print(var_dic_list())"
    },
    "r": {
     "delete_cmd_postfix": ") ",
     "delete_cmd_prefix": "rm(",
     "library": "var_list.r",
     "varRefreshCmd": "cat(var_dic_list()) "
    }
   },
   "types_to_exclude": [
    "module",
    "function",
    "builtin_function_or_method",
    "instance",
    "_Feature"
   ],
   "window_display": false
  }
 },
 "nbformat": 4,
 "nbformat_minor": 2
}
